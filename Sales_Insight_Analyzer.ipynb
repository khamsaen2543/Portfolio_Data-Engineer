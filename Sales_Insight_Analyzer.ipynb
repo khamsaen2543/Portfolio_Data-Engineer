{
  "nbformat": 4,
  "nbformat_minor": 0,
  "metadata": {
    "colab": {
      "provenance": [],
      "authorship_tag": "ABX9TyNauLx/kRsWdx/P/95qO0rg",
      "include_colab_link": true
    },
    "kernelspec": {
      "name": "python3",
      "display_name": "Python 3"
    },
    "language_info": {
      "name": "python"
    }
  },
  "cells": [
    {
      "cell_type": "markdown",
      "metadata": {
        "id": "view-in-github",
        "colab_type": "text"
      },
      "source": [
        "<a href=\"https://colab.research.google.com/github/khamsaen2543/Portfolio_Data-Engineer/blob/main/Sales_Insight_Analyzer.ipynb\" target=\"_parent\"><img src=\"https://colab.research.google.com/assets/colab-badge.svg\" alt=\"Open In Colab\"/></a>"
      ]
    },
    {
      "cell_type": "markdown",
      "source": [
        "# ชุดข้อมูลตัวอย่างนำมาจาก https://catalog.data.gov/dataset/warehouse-and-retail-sales\n",
        "\n",
        "## ขั้นตอนการทำโปรเจ็กต์ **Sales Insight Analyzer**\n",
        "1. เตรียมข้อมูล\n",
        "ดาวน์โหลดหรือสร้างไฟล์ CSV ที่มีข้อมูลยอดขาย\n",
        "ใช้ Python ในการอ่านและจัดการข้อมูล (เช่น Pandas)\n",
        "2. วิเคราะห์ข้อมูล\n",
        "ยอดขายรวม (Total Sales) = Price * Quantity\n",
        "ยอดขายต่อหมวดหมู่ (Sales by Category)\n",
        "สินค้ายอดนิยม (Top Products)\n",
        "3. แสดงผลในรูปแบบกราฟ\n",
        "ใช้ไลบรารีเช่น Matplotlib หรือ Seaborn ในการสร้างกราฟ\n",
        "4. สร้าง Dashboard\n",
        "ใช้เครื่องมือเช่น Tableau หรือ Power BI เพื่อสร้าง Dashboard ที่สามารถอัปเดตได้"
      ],
      "metadata": {
        "id": "fClIv-1RbsJX"
      }
    },
    {
      "cell_type": "markdown",
      "source": [
        "# ขั้นตอนการวิเคราะห์\n",
        "\n"
      ],
      "metadata": {
        "id": "kReInPlwN-QS"
      }
    },
    {
      "cell_type": "markdown",
      "source": [
        "## 1. นำเข้าข้อมูล"
      ],
      "metadata": {
        "id": "3gtJ-SVQOBDo"
      }
    },
    {
      "cell_type": "code",
      "execution_count": 1,
      "metadata": {
        "colab": {
          "base_uri": "https://localhost:8080/"
        },
        "id": "EWP8s9hK-XUj",
        "outputId": "861d6045-a282-455d-ed73-ec2389dae09c"
      },
      "outputs": [
        {
          "output_type": "stream",
          "name": "stdout",
          "text": [
            "Mounted at /content/drive\n"
          ]
        }
      ],
      "source": [
        "import pandas as pd\n",
        "import os\n",
        "from google.colab import drive\n",
        "drive.mount('/content/drive')\n",
        "path = '/content/drive/My Drive/Colab Notebooks'\n",
        "\n",
        "### import pandas as pd: นำเข้าไลบรารี Pandas ซึ่งช่วยจัดการข้อมูลในรูปแบบตาราง (DataFrame)\n",
        "### data.head(): แสดง 5 แถวแรกของข้อมูลเพื่อดูโครงสร้าง\n",
        "### คลิกลิ้ง -> เลือก E-mail -> ลงชื่อ -> ก็อปโค้ด -> นำกลับมาวาง -> enter"
      ]
    },
    {
      "cell_type": "code",
      "source": [
        "path = '/content/drive/My Drive/Colab Notebooks'\n",
        "data_sales = pd.read_csv(os.path.join(path,'Warehouse_and_Retail_Sales.csv'))\n",
        "data_sales\n",
        "\n",
        "### pd.read_csv(\"sales_data.csv\"): อ่านข้อมูลจากไฟล์ CSV และแปลงให้เป็น DataFrame"
      ],
      "metadata": {
        "colab": {
          "base_uri": "https://localhost:8080/",
          "height": 815
        },
        "id": "VisdlIEh-gAm",
        "outputId": "d82b935c-6b91-40ff-84d0-244bae0c2d25"
      },
      "execution_count": 2,
      "outputs": [
        {
          "output_type": "execute_result",
          "data": {
            "text/plain": [
              "        YEAR  MONTH                           SUPPLIER ITEM CODE  \\\n",
              "0       2020      1  REPUBLIC NATIONAL DISTRIBUTING CO    100009   \n",
              "1       2020      1                          PWSWN INC    100024   \n",
              "2       2020      1            RELIABLE CHURCHILL LLLP      1001   \n",
              "3       2020      1          LANTERNA DISTRIBUTORS INC    100145   \n",
              "4       2020      1               DIONYSOS IMPORTS INC    100293   \n",
              "...      ...    ...                                ...       ...   \n",
              "307640  2020      9                           DOPS INC     97896   \n",
              "307641  2020      9                 ANHEUSER BUSCH INC     97918   \n",
              "307642  2020      9                       HEINEKEN USA     97942   \n",
              "307643  2020      9            RELIABLE CHURCHILL LLLP     97950   \n",
              "307644  2020      9            RELIABLE CHURCHILL LLLP     97969   \n",
              "\n",
              "                                   ITEM DESCRIPTION ITEM TYPE  RETAIL SALES  \\\n",
              "0                               BOOTLEG RED - 750ML      WINE          0.00   \n",
              "1                         MOMENT DE PLAISIR - 750ML      WINE          0.00   \n",
              "2               S SMITH ORGANIC PEAR CIDER - 18.7OZ      BEER          0.00   \n",
              "3                     SCHLINK HAUS KABINETT - 750ML      WINE          0.00   \n",
              "4                    SANTORINI GAVALA WHITE - 750ML      WINE          0.82   \n",
              "...                                             ...       ...           ...   \n",
              "307640  ST PETERS ORGANIC ENG ALE NR 12/CS - 16.9OZ      BEER          0.00   \n",
              "307641               STELLA ARTOIS 2/12 NR - 11.2OZ      BEER        372.45   \n",
              "307642                       TECATE 4/6 LNNR - 12OZ      BEER          7.79   \n",
              "307643     S SMITH WINTER WELCOME NR 12/CS - 18.7OZ      BEER          0.00   \n",
              "307644          S SMITH WINTER WELCOME 4/6NR - 12OZ      BEER          0.00   \n",
              "\n",
              "        RETAIL TRANSFERS  WAREHOUSE SALES  \n",
              "0                    0.0             2.00  \n",
              "1                    1.0             4.00  \n",
              "2                    0.0             1.00  \n",
              "3                    0.0             1.00  \n",
              "4                    0.0             0.00  \n",
              "...                  ...              ...  \n",
              "307640               0.0             1.00  \n",
              "307641             315.0          3586.88  \n",
              "307642               0.0             4.00  \n",
              "307643               0.0             2.00  \n",
              "307644               0.0             1.00  \n",
              "\n",
              "[307645 rows x 9 columns]"
            ],
            "text/html": [
              "\n",
              "  <div id=\"df-328646e0-0830-4acf-b123-407efd9cce6d\" class=\"colab-df-container\">\n",
              "    <div>\n",
              "<style scoped>\n",
              "    .dataframe tbody tr th:only-of-type {\n",
              "        vertical-align: middle;\n",
              "    }\n",
              "\n",
              "    .dataframe tbody tr th {\n",
              "        vertical-align: top;\n",
              "    }\n",
              "\n",
              "    .dataframe thead th {\n",
              "        text-align: right;\n",
              "    }\n",
              "</style>\n",
              "<table border=\"1\" class=\"dataframe\">\n",
              "  <thead>\n",
              "    <tr style=\"text-align: right;\">\n",
              "      <th></th>\n",
              "      <th>YEAR</th>\n",
              "      <th>MONTH</th>\n",
              "      <th>SUPPLIER</th>\n",
              "      <th>ITEM CODE</th>\n",
              "      <th>ITEM DESCRIPTION</th>\n",
              "      <th>ITEM TYPE</th>\n",
              "      <th>RETAIL SALES</th>\n",
              "      <th>RETAIL TRANSFERS</th>\n",
              "      <th>WAREHOUSE SALES</th>\n",
              "    </tr>\n",
              "  </thead>\n",
              "  <tbody>\n",
              "    <tr>\n",
              "      <th>0</th>\n",
              "      <td>2020</td>\n",
              "      <td>1</td>\n",
              "      <td>REPUBLIC NATIONAL DISTRIBUTING CO</td>\n",
              "      <td>100009</td>\n",
              "      <td>BOOTLEG RED - 750ML</td>\n",
              "      <td>WINE</td>\n",
              "      <td>0.00</td>\n",
              "      <td>0.0</td>\n",
              "      <td>2.00</td>\n",
              "    </tr>\n",
              "    <tr>\n",
              "      <th>1</th>\n",
              "      <td>2020</td>\n",
              "      <td>1</td>\n",
              "      <td>PWSWN INC</td>\n",
              "      <td>100024</td>\n",
              "      <td>MOMENT DE PLAISIR - 750ML</td>\n",
              "      <td>WINE</td>\n",
              "      <td>0.00</td>\n",
              "      <td>1.0</td>\n",
              "      <td>4.00</td>\n",
              "    </tr>\n",
              "    <tr>\n",
              "      <th>2</th>\n",
              "      <td>2020</td>\n",
              "      <td>1</td>\n",
              "      <td>RELIABLE CHURCHILL LLLP</td>\n",
              "      <td>1001</td>\n",
              "      <td>S SMITH ORGANIC PEAR CIDER - 18.7OZ</td>\n",
              "      <td>BEER</td>\n",
              "      <td>0.00</td>\n",
              "      <td>0.0</td>\n",
              "      <td>1.00</td>\n",
              "    </tr>\n",
              "    <tr>\n",
              "      <th>3</th>\n",
              "      <td>2020</td>\n",
              "      <td>1</td>\n",
              "      <td>LANTERNA DISTRIBUTORS INC</td>\n",
              "      <td>100145</td>\n",
              "      <td>SCHLINK HAUS KABINETT - 750ML</td>\n",
              "      <td>WINE</td>\n",
              "      <td>0.00</td>\n",
              "      <td>0.0</td>\n",
              "      <td>1.00</td>\n",
              "    </tr>\n",
              "    <tr>\n",
              "      <th>4</th>\n",
              "      <td>2020</td>\n",
              "      <td>1</td>\n",
              "      <td>DIONYSOS IMPORTS INC</td>\n",
              "      <td>100293</td>\n",
              "      <td>SANTORINI GAVALA WHITE - 750ML</td>\n",
              "      <td>WINE</td>\n",
              "      <td>0.82</td>\n",
              "      <td>0.0</td>\n",
              "      <td>0.00</td>\n",
              "    </tr>\n",
              "    <tr>\n",
              "      <th>...</th>\n",
              "      <td>...</td>\n",
              "      <td>...</td>\n",
              "      <td>...</td>\n",
              "      <td>...</td>\n",
              "      <td>...</td>\n",
              "      <td>...</td>\n",
              "      <td>...</td>\n",
              "      <td>...</td>\n",
              "      <td>...</td>\n",
              "    </tr>\n",
              "    <tr>\n",
              "      <th>307640</th>\n",
              "      <td>2020</td>\n",
              "      <td>9</td>\n",
              "      <td>DOPS INC</td>\n",
              "      <td>97896</td>\n",
              "      <td>ST PETERS ORGANIC ENG ALE NR 12/CS - 16.9OZ</td>\n",
              "      <td>BEER</td>\n",
              "      <td>0.00</td>\n",
              "      <td>0.0</td>\n",
              "      <td>1.00</td>\n",
              "    </tr>\n",
              "    <tr>\n",
              "      <th>307641</th>\n",
              "      <td>2020</td>\n",
              "      <td>9</td>\n",
              "      <td>ANHEUSER BUSCH INC</td>\n",
              "      <td>97918</td>\n",
              "      <td>STELLA ARTOIS 2/12 NR - 11.2OZ</td>\n",
              "      <td>BEER</td>\n",
              "      <td>372.45</td>\n",
              "      <td>315.0</td>\n",
              "      <td>3586.88</td>\n",
              "    </tr>\n",
              "    <tr>\n",
              "      <th>307642</th>\n",
              "      <td>2020</td>\n",
              "      <td>9</td>\n",
              "      <td>HEINEKEN USA</td>\n",
              "      <td>97942</td>\n",
              "      <td>TECATE 4/6 LNNR - 12OZ</td>\n",
              "      <td>BEER</td>\n",
              "      <td>7.79</td>\n",
              "      <td>0.0</td>\n",
              "      <td>4.00</td>\n",
              "    </tr>\n",
              "    <tr>\n",
              "      <th>307643</th>\n",
              "      <td>2020</td>\n",
              "      <td>9</td>\n",
              "      <td>RELIABLE CHURCHILL LLLP</td>\n",
              "      <td>97950</td>\n",
              "      <td>S SMITH WINTER WELCOME NR 12/CS - 18.7OZ</td>\n",
              "      <td>BEER</td>\n",
              "      <td>0.00</td>\n",
              "      <td>0.0</td>\n",
              "      <td>2.00</td>\n",
              "    </tr>\n",
              "    <tr>\n",
              "      <th>307644</th>\n",
              "      <td>2020</td>\n",
              "      <td>9</td>\n",
              "      <td>RELIABLE CHURCHILL LLLP</td>\n",
              "      <td>97969</td>\n",
              "      <td>S SMITH WINTER WELCOME 4/6NR - 12OZ</td>\n",
              "      <td>BEER</td>\n",
              "      <td>0.00</td>\n",
              "      <td>0.0</td>\n",
              "      <td>1.00</td>\n",
              "    </tr>\n",
              "  </tbody>\n",
              "</table>\n",
              "<p>307645 rows × 9 columns</p>\n",
              "</div>\n",
              "    <div class=\"colab-df-buttons\">\n",
              "\n",
              "  <div class=\"colab-df-container\">\n",
              "    <button class=\"colab-df-convert\" onclick=\"convertToInteractive('df-328646e0-0830-4acf-b123-407efd9cce6d')\"\n",
              "            title=\"Convert this dataframe to an interactive table.\"\n",
              "            style=\"display:none;\">\n",
              "\n",
              "  <svg xmlns=\"http://www.w3.org/2000/svg\" height=\"24px\" viewBox=\"0 -960 960 960\">\n",
              "    <path d=\"M120-120v-720h720v720H120Zm60-500h600v-160H180v160Zm220 220h160v-160H400v160Zm0 220h160v-160H400v160ZM180-400h160v-160H180v160Zm440 0h160v-160H620v160ZM180-180h160v-160H180v160Zm440 0h160v-160H620v160Z\"/>\n",
              "  </svg>\n",
              "    </button>\n",
              "\n",
              "  <style>\n",
              "    .colab-df-container {\n",
              "      display:flex;\n",
              "      gap: 12px;\n",
              "    }\n",
              "\n",
              "    .colab-df-convert {\n",
              "      background-color: #E8F0FE;\n",
              "      border: none;\n",
              "      border-radius: 50%;\n",
              "      cursor: pointer;\n",
              "      display: none;\n",
              "      fill: #1967D2;\n",
              "      height: 32px;\n",
              "      padding: 0 0 0 0;\n",
              "      width: 32px;\n",
              "    }\n",
              "\n",
              "    .colab-df-convert:hover {\n",
              "      background-color: #E2EBFA;\n",
              "      box-shadow: 0px 1px 2px rgba(60, 64, 67, 0.3), 0px 1px 3px 1px rgba(60, 64, 67, 0.15);\n",
              "      fill: #174EA6;\n",
              "    }\n",
              "\n",
              "    .colab-df-buttons div {\n",
              "      margin-bottom: 4px;\n",
              "    }\n",
              "\n",
              "    [theme=dark] .colab-df-convert {\n",
              "      background-color: #3B4455;\n",
              "      fill: #D2E3FC;\n",
              "    }\n",
              "\n",
              "    [theme=dark] .colab-df-convert:hover {\n",
              "      background-color: #434B5C;\n",
              "      box-shadow: 0px 1px 3px 1px rgba(0, 0, 0, 0.15);\n",
              "      filter: drop-shadow(0px 1px 2px rgba(0, 0, 0, 0.3));\n",
              "      fill: #FFFFFF;\n",
              "    }\n",
              "  </style>\n",
              "\n",
              "    <script>\n",
              "      const buttonEl =\n",
              "        document.querySelector('#df-328646e0-0830-4acf-b123-407efd9cce6d button.colab-df-convert');\n",
              "      buttonEl.style.display =\n",
              "        google.colab.kernel.accessAllowed ? 'block' : 'none';\n",
              "\n",
              "      async function convertToInteractive(key) {\n",
              "        const element = document.querySelector('#df-328646e0-0830-4acf-b123-407efd9cce6d');\n",
              "        const dataTable =\n",
              "          await google.colab.kernel.invokeFunction('convertToInteractive',\n",
              "                                                    [key], {});\n",
              "        if (!dataTable) return;\n",
              "\n",
              "        const docLinkHtml = 'Like what you see? Visit the ' +\n",
              "          '<a target=\"_blank\" href=https://colab.research.google.com/notebooks/data_table.ipynb>data table notebook</a>'\n",
              "          + ' to learn more about interactive tables.';\n",
              "        element.innerHTML = '';\n",
              "        dataTable['output_type'] = 'display_data';\n",
              "        await google.colab.output.renderOutput(dataTable, element);\n",
              "        const docLink = document.createElement('div');\n",
              "        docLink.innerHTML = docLinkHtml;\n",
              "        element.appendChild(docLink);\n",
              "      }\n",
              "    </script>\n",
              "  </div>\n",
              "\n",
              "\n",
              "<div id=\"df-90d34094-7273-444e-89c5-bcc4d7296643\">\n",
              "  <button class=\"colab-df-quickchart\" onclick=\"quickchart('df-90d34094-7273-444e-89c5-bcc4d7296643')\"\n",
              "            title=\"Suggest charts\"\n",
              "            style=\"display:none;\">\n",
              "\n",
              "<svg xmlns=\"http://www.w3.org/2000/svg\" height=\"24px\"viewBox=\"0 0 24 24\"\n",
              "     width=\"24px\">\n",
              "    <g>\n",
              "        <path d=\"M19 3H5c-1.1 0-2 .9-2 2v14c0 1.1.9 2 2 2h14c1.1 0 2-.9 2-2V5c0-1.1-.9-2-2-2zM9 17H7v-7h2v7zm4 0h-2V7h2v10zm4 0h-2v-4h2v4z\"/>\n",
              "    </g>\n",
              "</svg>\n",
              "  </button>\n",
              "\n",
              "<style>\n",
              "  .colab-df-quickchart {\n",
              "      --bg-color: #E8F0FE;\n",
              "      --fill-color: #1967D2;\n",
              "      --hover-bg-color: #E2EBFA;\n",
              "      --hover-fill-color: #174EA6;\n",
              "      --disabled-fill-color: #AAA;\n",
              "      --disabled-bg-color: #DDD;\n",
              "  }\n",
              "\n",
              "  [theme=dark] .colab-df-quickchart {\n",
              "      --bg-color: #3B4455;\n",
              "      --fill-color: #D2E3FC;\n",
              "      --hover-bg-color: #434B5C;\n",
              "      --hover-fill-color: #FFFFFF;\n",
              "      --disabled-bg-color: #3B4455;\n",
              "      --disabled-fill-color: #666;\n",
              "  }\n",
              "\n",
              "  .colab-df-quickchart {\n",
              "    background-color: var(--bg-color);\n",
              "    border: none;\n",
              "    border-radius: 50%;\n",
              "    cursor: pointer;\n",
              "    display: none;\n",
              "    fill: var(--fill-color);\n",
              "    height: 32px;\n",
              "    padding: 0;\n",
              "    width: 32px;\n",
              "  }\n",
              "\n",
              "  .colab-df-quickchart:hover {\n",
              "    background-color: var(--hover-bg-color);\n",
              "    box-shadow: 0 1px 2px rgba(60, 64, 67, 0.3), 0 1px 3px 1px rgba(60, 64, 67, 0.15);\n",
              "    fill: var(--button-hover-fill-color);\n",
              "  }\n",
              "\n",
              "  .colab-df-quickchart-complete:disabled,\n",
              "  .colab-df-quickchart-complete:disabled:hover {\n",
              "    background-color: var(--disabled-bg-color);\n",
              "    fill: var(--disabled-fill-color);\n",
              "    box-shadow: none;\n",
              "  }\n",
              "\n",
              "  .colab-df-spinner {\n",
              "    border: 2px solid var(--fill-color);\n",
              "    border-color: transparent;\n",
              "    border-bottom-color: var(--fill-color);\n",
              "    animation:\n",
              "      spin 1s steps(1) infinite;\n",
              "  }\n",
              "\n",
              "  @keyframes spin {\n",
              "    0% {\n",
              "      border-color: transparent;\n",
              "      border-bottom-color: var(--fill-color);\n",
              "      border-left-color: var(--fill-color);\n",
              "    }\n",
              "    20% {\n",
              "      border-color: transparent;\n",
              "      border-left-color: var(--fill-color);\n",
              "      border-top-color: var(--fill-color);\n",
              "    }\n",
              "    30% {\n",
              "      border-color: transparent;\n",
              "      border-left-color: var(--fill-color);\n",
              "      border-top-color: var(--fill-color);\n",
              "      border-right-color: var(--fill-color);\n",
              "    }\n",
              "    40% {\n",
              "      border-color: transparent;\n",
              "      border-right-color: var(--fill-color);\n",
              "      border-top-color: var(--fill-color);\n",
              "    }\n",
              "    60% {\n",
              "      border-color: transparent;\n",
              "      border-right-color: var(--fill-color);\n",
              "    }\n",
              "    80% {\n",
              "      border-color: transparent;\n",
              "      border-right-color: var(--fill-color);\n",
              "      border-bottom-color: var(--fill-color);\n",
              "    }\n",
              "    90% {\n",
              "      border-color: transparent;\n",
              "      border-bottom-color: var(--fill-color);\n",
              "    }\n",
              "  }\n",
              "</style>\n",
              "\n",
              "  <script>\n",
              "    async function quickchart(key) {\n",
              "      const quickchartButtonEl =\n",
              "        document.querySelector('#' + key + ' button');\n",
              "      quickchartButtonEl.disabled = true;  // To prevent multiple clicks.\n",
              "      quickchartButtonEl.classList.add('colab-df-spinner');\n",
              "      try {\n",
              "        const charts = await google.colab.kernel.invokeFunction(\n",
              "            'suggestCharts', [key], {});\n",
              "      } catch (error) {\n",
              "        console.error('Error during call to suggestCharts:', error);\n",
              "      }\n",
              "      quickchartButtonEl.classList.remove('colab-df-spinner');\n",
              "      quickchartButtonEl.classList.add('colab-df-quickchart-complete');\n",
              "    }\n",
              "    (() => {\n",
              "      let quickchartButtonEl =\n",
              "        document.querySelector('#df-90d34094-7273-444e-89c5-bcc4d7296643 button');\n",
              "      quickchartButtonEl.style.display =\n",
              "        google.colab.kernel.accessAllowed ? 'block' : 'none';\n",
              "    })();\n",
              "  </script>\n",
              "</div>\n",
              "\n",
              "  <div id=\"id_62d95a72-db7b-488f-9adf-d9942807f145\">\n",
              "    <style>\n",
              "      .colab-df-generate {\n",
              "        background-color: #E8F0FE;\n",
              "        border: none;\n",
              "        border-radius: 50%;\n",
              "        cursor: pointer;\n",
              "        display: none;\n",
              "        fill: #1967D2;\n",
              "        height: 32px;\n",
              "        padding: 0 0 0 0;\n",
              "        width: 32px;\n",
              "      }\n",
              "\n",
              "      .colab-df-generate:hover {\n",
              "        background-color: #E2EBFA;\n",
              "        box-shadow: 0px 1px 2px rgba(60, 64, 67, 0.3), 0px 1px 3px 1px rgba(60, 64, 67, 0.15);\n",
              "        fill: #174EA6;\n",
              "      }\n",
              "\n",
              "      [theme=dark] .colab-df-generate {\n",
              "        background-color: #3B4455;\n",
              "        fill: #D2E3FC;\n",
              "      }\n",
              "\n",
              "      [theme=dark] .colab-df-generate:hover {\n",
              "        background-color: #434B5C;\n",
              "        box-shadow: 0px 1px 3px 1px rgba(0, 0, 0, 0.15);\n",
              "        filter: drop-shadow(0px 1px 2px rgba(0, 0, 0, 0.3));\n",
              "        fill: #FFFFFF;\n",
              "      }\n",
              "    </style>\n",
              "    <button class=\"colab-df-generate\" onclick=\"generateWithVariable('data_sales')\"\n",
              "            title=\"Generate code using this dataframe.\"\n",
              "            style=\"display:none;\">\n",
              "\n",
              "  <svg xmlns=\"http://www.w3.org/2000/svg\" height=\"24px\"viewBox=\"0 0 24 24\"\n",
              "       width=\"24px\">\n",
              "    <path d=\"M7,19H8.4L18.45,9,17,7.55,7,17.6ZM5,21V16.75L18.45,3.32a2,2,0,0,1,2.83,0l1.4,1.43a1.91,1.91,0,0,1,.58,1.4,1.91,1.91,0,0,1-.58,1.4L9.25,21ZM18.45,9,17,7.55Zm-12,3A5.31,5.31,0,0,0,4.9,8.1,5.31,5.31,0,0,0,1,6.5,5.31,5.31,0,0,0,4.9,4.9,5.31,5.31,0,0,0,6.5,1,5.31,5.31,0,0,0,8.1,4.9,5.31,5.31,0,0,0,12,6.5,5.46,5.46,0,0,0,6.5,12Z\"/>\n",
              "  </svg>\n",
              "    </button>\n",
              "    <script>\n",
              "      (() => {\n",
              "      const buttonEl =\n",
              "        document.querySelector('#id_62d95a72-db7b-488f-9adf-d9942807f145 button.colab-df-generate');\n",
              "      buttonEl.style.display =\n",
              "        google.colab.kernel.accessAllowed ? 'block' : 'none';\n",
              "\n",
              "      buttonEl.onclick = () => {\n",
              "        google.colab.notebook.generateWithVariable('data_sales');\n",
              "      }\n",
              "      })();\n",
              "    </script>\n",
              "  </div>\n",
              "\n",
              "    </div>\n",
              "  </div>\n"
            ],
            "application/vnd.google.colaboratory.intrinsic+json": {
              "type": "dataframe",
              "variable_name": "data_sales"
            }
          },
          "metadata": {},
          "execution_count": 2
        },
        {
          "output_type": "stream",
          "name": "stdout",
          "text": [
            "Warning: total number of rows (307645) exceeds max_rows (20000). Limiting to first (20000) rows.\n",
            "Warning: total number of rows (307645) exceeds max_rows (20000). Limiting to first (20000) rows.\n"
          ]
        }
      ]
    },
    {
      "cell_type": "markdown",
      "source": [
        "# **Data structure**\n",
        "\n",
        "---\n",
        "\n",
        "index\tลำดับข้อมูล\n",
        "\n",
        "---\n",
        "\n",
        "YEAR\tปีที่ทำการขาย\n",
        "\n",
        "---\n",
        "\n",
        "MONTH\tเดือนที่ทำการขาย\n",
        "\n",
        "---\n",
        "\n",
        "SUPPLIER\tชื่อผู้จัดจำหน่ายสินค้า\n",
        "\n",
        "---\n",
        "\n",
        "ITEM CODE\tรหัสสินค้า\n",
        "\n",
        "---\n",
        "\n",
        "ITEM DESCRIPTION\tคำอธิบายสินค้า\n",
        "\n",
        "---\n",
        "\n",
        "ITEM TYPE\tประเภทสินค้า\n",
        "\n",
        "---\n",
        "\n",
        "RETAIL SALES\tยอดขายปลีก\n",
        "\n",
        "---\n",
        "\n",
        "RETAIL TRANSFERS\tการโอนสินค้าระหว่างร้านค้า\n",
        "\n",
        "---\n",
        "\n",
        "WAREHOUSE SALES\tยอดขายจากคลังสินค้า\n",
        "\n",
        "---"
      ],
      "metadata": {
        "id": "IJfYlPLjCXhP"
      }
    },
    {
      "cell_type": "code",
      "source": [
        "print(data_sales.head())                      ### ดูข้อมูลตัวอย่าง"
      ],
      "metadata": {
        "colab": {
          "base_uri": "https://localhost:8080/"
        },
        "id": "GwAM_5RWMdgE",
        "outputId": "ce40fa95-f0e6-4ce0-dd4d-61e42e116abd"
      },
      "execution_count": 4,
      "outputs": [
        {
          "output_type": "stream",
          "name": "stdout",
          "text": [
            "   YEAR  MONTH                           SUPPLIER ITEM CODE  \\\n",
            "0  2020      1  REPUBLIC NATIONAL DISTRIBUTING CO    100009   \n",
            "1  2020      1                          PWSWN INC    100024   \n",
            "2  2020      1            RELIABLE CHURCHILL LLLP      1001   \n",
            "3  2020      1          LANTERNA DISTRIBUTORS INC    100145   \n",
            "4  2020      1               DIONYSOS IMPORTS INC    100293   \n",
            "\n",
            "                      ITEM DESCRIPTION ITEM TYPE  RETAIL SALES  \\\n",
            "0                  BOOTLEG RED - 750ML      WINE          0.00   \n",
            "1            MOMENT DE PLAISIR - 750ML      WINE          0.00   \n",
            "2  S SMITH ORGANIC PEAR CIDER - 18.7OZ      BEER          0.00   \n",
            "3        SCHLINK HAUS KABINETT - 750ML      WINE          0.00   \n",
            "4       SANTORINI GAVALA WHITE - 750ML      WINE          0.82   \n",
            "\n",
            "   RETAIL TRANSFERS  WAREHOUSE SALES  \n",
            "0               0.0              2.0  \n",
            "1               1.0              4.0  \n",
            "2               0.0              1.0  \n",
            "3               0.0              1.0  \n",
            "4               0.0              0.0  \n"
          ]
        }
      ]
    },
    {
      "cell_type": "markdown",
      "source": [
        "## 2. วิเคราะห์ข้อมูลพื้นฐาน\n",
        "###1.  ยอดขายรวมทุกช่องทาง\n",
        "### คำนวณยอดขายทั้งหมดรวมกัน\n",
        "\n"
      ],
      "metadata": {
        "id": "v2Omr7mYNukQ"
      }
    },
    {
      "cell_type": "code",
      "source": [
        "data_sales['TOTAL SALES'] = data_sales['RETAIL SALES'] + data_sales['WAREHOUSE SALES']      ###คำนวณยอดขายทั้งหมดรวมกัน:\n",
        "total_sales = data_sales['TOTAL SALES'].sum()\n",
        "print(f\"Total Sales: {total_sales}\")\n",
        "\n",
        "###  data_sales['RETAIL SALES'] +  data_sales['WAREHOUSE SALES']: คำนวณยอดขายรวมโดยรวมยอดขายจากร้านค้า (RETAIL SALES) และคลังสินค้า (WAREHOUSE SALES)\n",
        "###  data_sales['TOTAL SALES']: สร้างคอลัมน์ใหม่ใน DataFrame ชื่อว่า TOTAL SALES เพื่อเก็บผลลัพธ์\n",
        "###  data_sales['TOTAL SALES'].sum(): คำนวณยอดขายรวมทั้งหมด (รวมทุกแถวในคอลัมน์ TOTAL SALES)\n",
        "### f\"Total Sales: {total_sales}\": ใช้ฟังก์ชัน f-string เพื่อพิมพ์ผลลัพธ์ออกมา"
      ],
      "metadata": {
        "colab": {
          "base_uri": "https://localhost:8080/"
        },
        "id": "9YYQ9TwMA2RS",
        "outputId": "0d4f8d42-01d1-4522-d262-10ac9b01ccaa"
      },
      "execution_count": 6,
      "outputs": [
        {
          "output_type": "stream",
          "name": "stdout",
          "text": [
            "Total Sales: 9942655.649999999\n"
          ]
        }
      ]
    },
    {
      "cell_type": "markdown",
      "source": [
        "### 2. ยอดขายรายเดือน\n",
        "### วิเคราะห์ยอดขายตามเดือน"
      ],
      "metadata": {
        "id": "s9Rh06-FPh9A"
      }
    },
    {
      "cell_type": "code",
      "source": [
        "sales_by_month = data_sales.groupby(['YEAR', 'MONTH'])['TOTAL SALES'].sum()\n",
        "print(sales_by_month)\n",
        "### data_sales.groupby(['YEAR', 'MONTH']): จัดกลุ่มข้อมูลตามปี (YEAR) และเดือน (MONTH)\n",
        "### ['TOTAL SALES'].sum(): รวมยอดขาย (TOTAL SALES) ในแต่ละกลุ่ม\n",
        "### ผลลัพธ์จะแสดงยอดขายรวมสำหรับแต่ละปีและเดือน"
      ],
      "metadata": {
        "colab": {
          "base_uri": "https://localhost:8080/"
        },
        "id": "eeNsHXzAMwuU",
        "outputId": "016b049e-4b83-4212-ba17-6f3e8d6832e1"
      },
      "execution_count": 8,
      "outputs": [
        {
          "output_type": "stream",
          "name": "stdout",
          "text": [
            "YEAR  MONTH\n",
            "2017  6        476748.09\n",
            "      7        409478.58\n",
            "      8        469298.47\n",
            "      9        395893.13\n",
            "      10       392951.87\n",
            "      11       437621.85\n",
            "      12       438591.71\n",
            "2018  1        330309.44\n",
            "      2        342812.65\n",
            "2019  1        356481.77\n",
            "      2        328701.22\n",
            "      3        377701.76\n",
            "      4        379183.45\n",
            "      5        478744.68\n",
            "      6        437447.47\n",
            "      7        465734.96\n",
            "      8        440231.70\n",
            "      9        400172.23\n",
            "      10       438433.44\n",
            "      11       400729.75\n",
            "2020  1        358433.49\n",
            "      3        426864.27\n",
            "      7        512633.38\n",
            "      9        447456.29\n",
            "Name: TOTAL SALES, dtype: float64\n"
          ]
        }
      ]
    },
    {
      "cell_type": "markdown",
      "source": [
        "### 3. สินค้าขายดี\n",
        "### หาสินค้าที่มียอดขายสูงสุด"
      ],
      "metadata": {
        "id": "o6hIeKiiQllG"
      }
    },
    {
      "cell_type": "code",
      "source": [
        "top_items = data_sales.groupby ('ITEM DESCRIPTION')['TOTAL SALES'].sum().sort_values(ascending=False).head(10)\n",
        "print(top_items)\n",
        "\n",
        "### data_sales.groupby('ITEM DESCRIPTION'): จัดกลุ่มข้อมูลตามชื่อสินค้า (ITEM DESCRIPTION)\n",
        "### ['TOTAL SALES'].sum(): รวมยอดขายของแต่ละสินค้า\n",
        "### sort_values(ascending=False): จัดเรียงจากมากไปน้อย\n",
        "### head(10): เลือกเฉพาะ 10 อันดับแรก"
      ],
      "metadata": {
        "colab": {
          "base_uri": "https://localhost:8080/"
        },
        "id": "f1u5nCPLQojx",
        "outputId": "819fc024-cd30-4d2f-e714-2b10f74dd68a"
      },
      "execution_count": 11,
      "outputs": [
        {
          "output_type": "stream",
          "name": "stdout",
          "text": [
            "ITEM DESCRIPTION\n",
            "CORONA EXTRA LOOSE NR - 12OZ          328224.83\n",
            "CORONA EXTRA 2/12 NR - 12OZ           257679.62\n",
            "HEINEKEN LOOSE NR - 12OZ              189711.21\n",
            "HEINEKEN 2/12 NR - 12OZ               162224.15\n",
            "MILLER LITE 30PK CAN - 12OZ           148926.40\n",
            "CORONA EXTRA 4/6 NR - 12OZ            132665.61\n",
            "MODELO ESPECIAL 24 LOOSE NR - 12OZ    121846.80\n",
            "BUD LIGHT 30PK CAN                    108615.97\n",
            "HEINEKEN 4/6 NR - 12OZ                105184.92\n",
            "CORONA EXTRA 18PK NR - 12OZ           100664.44\n",
            "Name: TOTAL SALES, dtype: float64\n"
          ]
        }
      ]
    },
    {
      "cell_type": "markdown",
      "source": [
        "### 4. ยอดขายตาม Supplier\n",
        "### วิเคราะห์ยอดขายตามผู้จัดจำหน่าย"
      ],
      "metadata": {
        "id": "hLGpniP_RzjT"
      }
    },
    {
      "cell_type": "code",
      "source": [
        "sales_by_month = data_sales.groupby('SUPPLIER')['TOTAL SALES'].sum().sort_values(ascending=False)\n",
        "print(sales_by_month)\n",
        "\n",
        "### data_sales.groupby('SUPPLIER'): จัดกลุ่มข้อมูลตาม Supplier\n",
        "### ['TOTAL SALES'].sum(): รวมยอดขายจากแต่ละ Supplier\n",
        "### sort_values(ascending=False): จัดเรียงยอดขายจากมากไปน้อย"
      ],
      "metadata": {
        "colab": {
          "base_uri": "https://localhost:8080/"
        },
        "id": "bVBYqhm4R6eq",
        "outputId": "1a158bea-adf0-4511-e19e-c1ae3808cd99"
      },
      "execution_count": 13,
      "outputs": [
        {
          "output_type": "stream",
          "name": "stdout",
          "text": [
            "SUPPLIER\n",
            "CROWN IMPORTS               1736309.17\n",
            "MILLER BREWING COMPANY      1512585.15\n",
            "ANHEUSER BUSCH INC          1441131.66\n",
            "HEINEKEN USA                 885936.37\n",
            "E & J GALLO WINERY           363634.31\n",
            "                               ...    \n",
            "THE DOG BEVERAGE CO INC           0.04\n",
            "KAHN PAPER COMPANY INC            0.00\n",
            "HAMCO DC                          0.00\n",
            "PACIFIC RIM WINEMAKERS            0.00\n",
            "PREMIUM DISTRIBUTORS INC     -53782.00\n",
            "Name: TOTAL SALES, Length: 396, dtype: float64\n"
          ]
        }
      ]
    },
    {
      "cell_type": "markdown",
      "source": [
        "## 3. การแสดงผล\n",
        "### 1.กราฟยอดขายรายเดือน"
      ],
      "metadata": {
        "id": "_t_kHH5HSocF"
      }
    },
    {
      "cell_type": "code",
      "source": [
        "import matplotlib.pyplot as plt\n",
        "\n",
        "sales_by_month = data_sales.groupby(['YEAR', 'MONTH'])['TOTAL SALES'].sum()\n",
        "\n",
        "sales_by_month.unstack().plot(kind='bar', figsize=(10, 6))\n",
        "plt.title(\"Monthly Sales\")\n",
        "plt.xlabel(\"Year-Month\")\n",
        "plt.ylabel(\"Total Sales\")\n",
        "plt.show()\n",
        "\n",
        "### นิยามใหม่หรือปรับโครงสร้างตัวแปร sales_by_month เพื่อการวิเคราะห์รายเดือน\n",
        "### import matplotlib.pyplot as plt: นำเข้าไลบรารีสำหรับสร้างกราฟ\n",
        "### sales_by_month.unstack(): เปลี่ยนกลุ่มข้อมูล (YEAR และ MONTH) ให้แสดงในรูปแบบตารางเพื่อวาดกราฟ\n",
        "### plot(kind='bar'): วาดกราฟแท่ง (Bar Chart)\n",
        "### figsize=(10, 6): กำหนดขนาดของกราฟ\n",
        "### plt.title, plt.xlabel, plt.ylabel: กำหนดชื่อกราฟและแกน\n",
        "### plt.show(): แสดงผลกราฟ"
      ],
      "metadata": {
        "colab": {
          "base_uri": "https://localhost:8080/",
          "height": 585
        },
        "id": "OS7ylUkuSfSA",
        "outputId": "1f0e681f-3b58-4e6f-bacb-011af44fc740"
      },
      "execution_count": 23,
      "outputs": [
        {
          "output_type": "display_data",
          "data": {
            "text/plain": [
              "<Figure size 1000x600 with 1 Axes>"
            ],
            "image/png": "[encoded data removed]"
          },
          "metadata": {}
        }
      ]
    },
    {
      "cell_type": "markdown",
      "source": [
        "### 2. กราฟยอดขายตามประเภทสินค้า"
      ],
      "metadata": {
        "id": "VbscqMqCZFat"
      }
    },
    {
      "cell_type": "code",
      "source": [
        "### สร้างกราฟแท่ง (Bar Chart)\n",
        "sales_by_item_type.plot(\n",
        "    kind='bar',\n",
        "    color='skyblue',\n",
        "    figsize=(10, 6)\n",
        ")\n",
        "plt.title(\"Sales by Item Type\")\n",
        "plt.xlabel(\"Item Type\")\n",
        "plt.ylabel(\"Total Sales\")\n",
        "plt.xticks(rotation=45)  ### หมุนชื่อประเภทสินค้าให้เอียง\n",
        "plt.grid(axis='y', linestyle='--', alpha=0.7)\n",
        "plt.show()\n",
        "\n",
        "### data_sales.groupby('ITEM TYPE'): จัดกลุ่มข้อมูลตามประเภทสินค้า (ITEM TYPE)\n",
        "### ['TOTAL SALES'].sum(): รวมยอดขายในแต่ละประเภท\n",
        "### plot(kind='pie', autopct='%1.1f%%'): วาดกราฟวงกลม (Pie Chart) และแสดงเปอร์เซ็นต์\n",
        "### figsize=(8, 8): กำหนดขนาดกราฟ\n",
        "### plt.title(\"Sales by Item Type\"): ตั้งชื่อกราฟ"
      ],
      "metadata": {
        "colab": {
          "base_uri": "https://localhost:8080/",
          "height": 633
        },
        "id": "gdRL8ok9WtYT",
        "outputId": "d9a7656e-3233-4d45-f391-627700d66f4b"
      },
      "execution_count": 32,
      "outputs": [
        {
          "output_type": "display_data",
          "data": {
            "text/plain": [
              "<Figure size 1000x600 with 1 Axes>"
            ],
            "image/png": "[encoded data removed]"
          },
          "metadata": {}
        }
      ]
    },
    {
      "cell_type": "markdown",
      "source": [
        "# สรุป\n",
        "\n",
        "---\n",
        "\n",
        "\n",
        "## 1. นำเข้าข้อมูล: อ่านและเตรียมข้อมูล\n",
        "\n",
        "---\n",
        "\n",
        "\n",
        "## 2. วิเคราะห์: คำนวณยอดขาย, หาสินค้าขายดี, วิเคราะห์ตาม Supplier และประเภทสินค้า\n",
        "\n",
        "---\n",
        "\n",
        "\n",
        "## 3. แสดงผล: ใช้กราฟเพื่อช่วยสื่อสารข้อมูล\n",
        "\n",
        "---\n",
        "\n"
      ],
      "metadata": {
        "id": "bkQjsimObA4X"
      }
    },
    {
      "cell_type": "code",
      "source": [],
      "metadata": {
        "id": "SBxekYNDZJZP"
      },
      "execution_count": null,
      "outputs": []
    }
  ]
}